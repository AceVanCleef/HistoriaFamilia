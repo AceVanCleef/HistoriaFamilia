{
 "cells": [
  {
   "cell_type": "markdown",
   "metadata": {},
   "source": [
    "# AW - Damage Formula Analyzis\n",
    "\n",
    "Damage% = $( \\frac{B * A_{CO}}{100} + R) * \\frac{A_{HP}}{10} * (\\frac{200 - (D_{CO} + D_{TR} * D_{HP})}{100})$\n",
    "\n",
    "Source: http://awbw.wikia.com/wiki/Damage_Formula"
   ]
  },
  {
   "cell_type": "code",
   "execution_count": 1,
   "metadata": {},
   "outputs": [],
   "source": [
    "def calc_dmg(b, A_co = 100, R = 0, A_hp = 10, D_co = 100, D_tr = 1, D_hp = 10):\n",
    "    att_pwr = ((b * A_co)/100 + R)\n",
    "    hp_factor = A_hp / 10\n",
    "    def_factor = ( (200 - (D_co + D_tr * D_hp)) / 100)\n",
    "    \n",
    "    damage = att_pwr * hp_factor * def_factor\n",
    "    return (damage, att_pwr, hp_factor, def_factor)"
   ]
  },
  {
   "cell_type": "code",
   "execution_count": 2,
   "metadata": {},
   "outputs": [
    {
     "data": {
      "text/plain": [
       "(4.5, 5.0, 1.0, 0.9)"
      ]
     },
     "execution_count": 2,
     "metadata": {},
     "output_type": "execute_result"
    }
   ],
   "source": [
    "calc_dmg(b = 5)"
   ]
  },
  {
   "cell_type": "markdown",
   "metadata": {},
   "source": [
    "#### Imports"
   ]
  },
  {
   "cell_type": "code",
   "execution_count": 3,
   "metadata": {},
   "outputs": [],
   "source": [
    "import numpy as np\n",
    "import matplotlib.pyplot as plt\n",
    "import random"
   ]
  },
  {
   "cell_type": "markdown",
   "metadata": {},
   "source": [
    "Matplotlib intro: https://matplotlib.org/tutorials/introductory/pyplot.html#sphx-glr-tutorials-introductory-pyplot-py"
   ]
  },
  {
   "cell_type": "markdown",
   "metadata": {},
   "source": [
    "# Testing B"
   ]
  },
  {
   "cell_type": "code",
   "execution_count": 4,
   "metadata": {},
   "outputs": [],
   "source": [
    "def test_b(b_min = 0, b_max = 10, step_size = 1.0):\n",
    "    interval = np.arange(b_min, b_max + step_size, step_size)\n",
    "    print('B', '\\t->' ,'(damage, att_pwr, hp_factor, def_factor)')\n",
    "    x = []\n",
    "    y = []\n",
    "    for i in interval:\n",
    "        result = calc_dmg(b = i)\n",
    "        print (i, '\\t->', result)\n",
    "        x.append(i)\n",
    "        y.append(result[0])\n",
    "    #plotting\n",
    "    plt.plot(x, y, 'ro')\n",
    "    plt.xlabel('B')\n",
    "    plt.ylabel('Dmg')\n",
    "    plt.show()"
   ]
  },
  {
   "cell_type": "code",
   "execution_count": 5,
   "metadata": {},
   "outputs": [
    {
     "name": "stdout",
     "output_type": "stream",
     "text": [
      "B \t-> (damage, att_pwr, hp_factor, def_factor)\n",
      "0.0 \t-> (0.0, 0.0, 1.0, 0.9)\n",
      "1.0 \t-> (0.9, 1.0, 1.0, 0.9)\n",
      "2.0 \t-> (1.8, 2.0, 1.0, 0.9)\n",
      "3.0 \t-> (2.7, 3.0, 1.0, 0.9)\n",
      "4.0 \t-> (3.6, 4.0, 1.0, 0.9)\n",
      "5.0 \t-> (4.5, 5.0, 1.0, 0.9)\n",
      "6.0 \t-> (5.4, 6.0, 1.0, 0.9)\n",
      "7.0 \t-> (6.3, 7.0, 1.0, 0.9)\n",
      "8.0 \t-> (7.2, 8.0, 1.0, 0.9)\n",
      "9.0 \t-> (8.1, 9.0, 1.0, 0.9)\n",
      "10.0 \t-> (9.0, 10.0, 1.0, 0.9)\n",
      "11.0 \t-> (9.9, 11.0, 1.0, 0.9)\n",
      "12.0 \t-> (10.8, 12.0, 1.0, 0.9)\n",
      "13.0 \t-> (11.700000000000001, 13.0, 1.0, 0.9)\n",
      "14.0 \t-> (12.6, 14.0, 1.0, 0.9)\n",
      "15.0 \t-> (13.5, 15.0, 1.0, 0.9)\n"
     ]
    },
    {
     "data": {
      "image/png": "[encoded data removed]",
      "text/plain": [
       "<matplotlib.figure.Figure at 0xdf17eda4a8>"
      ]
     },
     "metadata": {},
     "output_type": "display_data"
    }
   ],
   "source": [
    "test_b(b_max = 15)"
   ]
  },
  {
   "cell_type": "markdown",
   "metadata": {},
   "source": [
    "# Testing A_co"
   ]
  },
  {
   "cell_type": "code",
   "execution_count": 6,
   "metadata": {},
   "outputs": [],
   "source": [
    "def test_A_co(min = 80, max = 130, step_size = 5.0, baseAtt = 1):\n",
    "    interval = np.arange(min, max + step_size, step_size)\n",
    "    print (\"B = \", baseAtt)\n",
    "    print('A_co', '\\t->' ,'(damage, att_pwr, hp_factor, def_factor)')\n",
    "    x = []\n",
    "    y = []\n",
    "    for i in interval:\n",
    "        result = calc_dmg(b = baseAtt, A_co = i)\n",
    "        print (i, '\\t->', result)\n",
    "        x.append(i)\n",
    "        y.append(result[0])\n",
    "    #plotting\n",
    "    plt.plot(x, y, 'ro')\n",
    "    plt.xlabel('A_co')\n",
    "    plt.ylabel('Dmg')\n",
    "    plt.show()"
   ]
  },
  {
   "cell_type": "code",
   "execution_count": 7,
   "metadata": {},
   "outputs": [
    {
     "name": "stdout",
     "output_type": "stream",
     "text": [
      "B =  5\n",
      "A_co \t-> (damage, att_pwr, hp_factor, def_factor)\n",
      "80.0 \t-> (3.6, 4.0, 1.0, 0.9)\n",
      "85.0 \t-> (3.825, 4.25, 1.0, 0.9)\n",
      "90.0 \t-> (4.05, 4.5, 1.0, 0.9)\n",
      "95.0 \t-> (4.275, 4.75, 1.0, 0.9)\n",
      "100.0 \t-> (4.5, 5.0, 1.0, 0.9)\n",
      "105.0 \t-> (4.7250000000000005, 5.25, 1.0, 0.9)\n",
      "110.0 \t-> (4.95, 5.5, 1.0, 0.9)\n",
      "115.0 \t-> (5.175, 5.75, 1.0, 0.9)\n",
      "120.0 \t-> (5.4, 6.0, 1.0, 0.9)\n",
      "125.0 \t-> (5.625, 6.25, 1.0, 0.9)\n",
      "130.0 \t-> (5.8500000000000005, 6.5, 1.0, 0.9)\n"
     ]
    },
    {
     "data": {
      "image/png": "[encoded data removed]",
      "text/plain": [
       "<matplotlib.figure.Figure at 0xdf1816ffd0>"
      ]
     },
     "metadata": {},
     "output_type": "display_data"
    }
   ],
   "source": [
    "test_A_co(baseAtt = 5)"
   ]
  },
  {
   "cell_type": "markdown",
   "metadata": {},
   "source": [
    "# Testing R"
   ]
  },
  {
   "cell_type": "code",
   "execution_count": 8,
   "metadata": {},
   "outputs": [],
   "source": [
    "def test_R(min = 0, max = 1.0, step_size = 0.1, baseAtt = 1):\n",
    "    interval = np.arange(min, max + step_size, step_size)\n",
    "    print (\"B = \", baseAtt)\n",
    "    print('R', '\\t->' ,'(damage, att_pwr, hp_factor, def_factor)')\n",
    "    x = []\n",
    "    y = []\n",
    "    for i in interval:\n",
    "        result = calc_dmg(b = baseAtt, R = i)\n",
    "        print (i, '\\t->', result)\n",
    "        x.append(i)\n",
    "        y.append(result[0])\n",
    "    #plotting\n",
    "    plt.plot(x, y, 'ro')\n",
    "    plt.xlabel('R')\n",
    "    plt.ylabel('Dmg')\n",
    "    plt.show()"
   ]
  },
  {
   "cell_type": "code",
   "execution_count": 9,
   "metadata": {},
   "outputs": [
    {
     "name": "stdout",
     "output_type": "stream",
     "text": [
      "B =  1\n",
      "R \t-> (damage, att_pwr, hp_factor, def_factor)\n",
      "0.0 \t-> (0.9, 1.0, 1.0, 0.9)\n",
      "0.1 \t-> (0.9900000000000001, 1.1, 1.0, 0.9)\n",
      "0.2 \t-> (1.08, 1.2, 1.0, 0.9)\n",
      "0.30000000000000004 \t-> (1.1700000000000002, 1.3, 1.0, 0.9)\n",
      "0.4 \t-> (1.26, 1.4, 1.0, 0.9)\n",
      "0.5 \t-> (1.35, 1.5, 1.0, 0.9)\n",
      "0.6000000000000001 \t-> (1.4400000000000002, 1.6, 1.0, 0.9)\n",
      "0.7000000000000001 \t-> (1.5300000000000002, 1.7000000000000002, 1.0, 0.9)\n",
      "0.8 \t-> (1.62, 1.8, 1.0, 0.9)\n",
      "0.9 \t-> (1.71, 1.9, 1.0, 0.9)\n",
      "1.0 \t-> (1.8, 2.0, 1.0, 0.9)\n"
     ]
    },
    {
     "data": {
      "image/png": "[encoded data removed]",
      "text/plain": [
       "<matplotlib.figure.Figure at 0xdf1816f9e8>"
      ]
     },
     "metadata": {},
     "output_type": "display_data"
    }
   ],
   "source": [
    "test_R()"
   ]
  },
  {
   "cell_type": "markdown",
   "metadata": {},
   "source": [
    "# Testing A_hp"
   ]
  },
  {
   "cell_type": "code",
   "execution_count": 10,
   "metadata": {},
   "outputs": [],
   "source": [
    "def test_A_hp(min = 0, max = 10, step_size = 1, baseAtt = 1):\n",
    "    interval = np.arange(min, max + step_size, step_size)\n",
    "    print (\"B = \", baseAtt)\n",
    "    print('A_hp', '\\t->' ,'(damage, att_pwr, hp_factor, def_factor)')\n",
    "    x = []\n",
    "    y = []\n",
    "    for i in interval:\n",
    "        result = calc_dmg(b = baseAtt, A_hp = i)\n",
    "        print (i, '\\t->', result)\n",
    "        x.append(i)\n",
    "        y.append(result[0])\n",
    "    #plotting\n",
    "    plt.plot(x, y, 'ro')\n",
    "    plt.xlabel('A_hp')\n",
    "    plt.ylabel('Dmg')\n",
    "    plt.show()"
   ]
  },
  {
   "cell_type": "code",
   "execution_count": 11,
   "metadata": {},
   "outputs": [
    {
     "name": "stdout",
     "output_type": "stream",
     "text": [
      "B =  5\n",
      "A_hp \t-> (damage, att_pwr, hp_factor, def_factor)\n",
      "0 \t-> (0.0, 5.0, 0.0, 0.9)\n",
      "1 \t-> (0.45, 5.0, 0.1, 0.9)\n",
      "2 \t-> (0.9, 5.0, 0.2, 0.9)\n",
      "3 \t-> (1.35, 5.0, 0.3, 0.9)\n",
      "4 \t-> (1.8, 5.0, 0.4, 0.9)\n",
      "5 \t-> (2.25, 5.0, 0.5, 0.9)\n",
      "6 \t-> (2.7, 5.0, 0.6, 0.9)\n",
      "7 \t-> (3.15, 5.0, 0.7, 0.9)\n",
      "8 \t-> (3.6, 5.0, 0.8, 0.9)\n",
      "9 \t-> (4.05, 5.0, 0.9, 0.9)\n",
      "10 \t-> (4.5, 5.0, 1.0, 0.9)\n"
     ]
    },
    {
     "data": {
      "image/png": "[encoded data removed]",
      "text/plain": [
       "<matplotlib.figure.Figure at 0xdf1822f7b8>"
      ]
     },
     "metadata": {},
     "output_type": "display_data"
    }
   ],
   "source": [
    "test_A_hp(baseAtt = 5)"
   ]
  },
  {
   "cell_type": "markdown",
   "metadata": {},
   "source": [
    "# Testing D_co"
   ]
  },
  {
   "cell_type": "code",
   "execution_count": 12,
   "metadata": {},
   "outputs": [],
   "source": [
    "def test_D_co(min = 80, max = 130, step_size = 5, baseAtt = 1):\n",
    "    interval = np.arange(min, max + step_size, step_size)\n",
    "    print (\"B = \", baseAtt)\n",
    "    print('D_co', '\\t->' ,'(damage, att_pwr, hp_factor, def_factor)')\n",
    "    x = []\n",
    "    y = []\n",
    "    for i in interval:\n",
    "        result = calc_dmg(b = baseAtt, D_co = i)\n",
    "        print (i, '\\t->', result)\n",
    "        x.append(i)\n",
    "        y.append(result[0])\n",
    "    #plotting\n",
    "    plt.plot(x, y, 'ro')\n",
    "    plt.xlabel('D_co')\n",
    "    plt.ylabel('Dmg')\n",
    "    plt.show()"
   ]
  },
  {
   "cell_type": "code",
   "execution_count": 13,
   "metadata": {},
   "outputs": [
    {
     "name": "stdout",
     "output_type": "stream",
     "text": [
      "B =  5\n",
      "D_co \t-> (damage, att_pwr, hp_factor, def_factor)\n",
      "80 \t-> (5.5, 5.0, 1.0, 1.1)\n",
      "85 \t-> (5.25, 5.0, 1.0, 1.05)\n",
      "90 \t-> (5.0, 5.0, 1.0, 1.0)\n",
      "95 \t-> (4.75, 5.0, 1.0, 0.95)\n",
      "100 \t-> (4.5, 5.0, 1.0, 0.9)\n",
      "105 \t-> (4.25, 5.0, 1.0, 0.85)\n",
      "110 \t-> (4.0, 5.0, 1.0, 0.8)\n",
      "115 \t-> (3.75, 5.0, 1.0, 0.75)\n",
      "120 \t-> (3.5, 5.0, 1.0, 0.7)\n",
      "125 \t-> (3.25, 5.0, 1.0, 0.65)\n",
      "130 \t-> (3.0, 5.0, 1.0, 0.6)\n"
     ]
    },
    {
     "data": {
      "image/png": "[encoded data removed]",
      "text/plain": [
       "<matplotlib.figure.Figure at 0xdf18222b38>"
      ]
     },
     "metadata": {},
     "output_type": "display_data"
    }
   ],
   "source": [
    "test_D_co(baseAtt = 5)"
   ]
  },
  {
   "cell_type": "markdown",
   "metadata": {},
   "source": [
    "# Test D_tr - Terrain defensive value"
   ]
  },
  {
   "cell_type": "code",
   "execution_count": 14,
   "metadata": {},
   "outputs": [],
   "source": [
    "def test_D_tr(min = -1, max = 5, step_size = 1, baseAtt = 1):\n",
    "    interval = np.arange(min, max + step_size, step_size)\n",
    "    print (\"B = \", baseAtt)\n",
    "    print('D_tr', '\\t->' ,'(damage, att_pwr, hp_factor, def_factor)')\n",
    "    x = []\n",
    "    y = []\n",
    "    for i in interval:\n",
    "        result = calc_dmg(b = baseAtt, D_tr = i)\n",
    "        print (i, '\\t->', result)\n",
    "        x.append(i)\n",
    "        y.append(result[0])\n",
    "    #plotting\n",
    "    plt.plot(x, y, 'ro')\n",
    "    plt.xlabel('D_tr')\n",
    "    plt.ylabel('Dmg')\n",
    "    plt.show()"
   ]
  },
  {
   "cell_type": "code",
   "execution_count": 15,
   "metadata": {},
   "outputs": [
    {
     "name": "stdout",
     "output_type": "stream",
     "text": [
      "B =  5\n",
      "D_tr \t-> (damage, att_pwr, hp_factor, def_factor)\n",
      "-1 \t-> (5.5, 5.0, 1.0, 1.1)\n",
      "0 \t-> (5.0, 5.0, 1.0, 1.0)\n",
      "1 \t-> (4.5, 5.0, 1.0, 0.9)\n",
      "2 \t-> (4.0, 5.0, 1.0, 0.8)\n",
      "3 \t-> (3.5, 5.0, 1.0, 0.7)\n",
      "4 \t-> (3.0, 5.0, 1.0, 0.6)\n",
      "5 \t-> (2.5, 5.0, 1.0, 0.5)\n"
     ]
    },
    {
     "data": {
      "image/png": "[encoded data removed]",
      "text/plain": [
       "<matplotlib.figure.Figure at 0xdf185057f0>"
      ]
     },
     "metadata": {},
     "output_type": "display_data"
    }
   ],
   "source": [
    "test_D_tr(baseAtt = 5)"
   ]
  },
  {
   "cell_type": "markdown",
   "metadata": {},
   "source": [
    "# Testing D_hp"
   ]
  },
  {
   "cell_type": "code",
   "execution_count": 16,
   "metadata": {},
   "outputs": [],
   "source": [
    "def test_D_hp(min = 0, max = 10, step_size = 1, baseAtt = 1):\n",
    "    interval = np.arange(min, max + step_size, step_size)\n",
    "    print (\"B = \", baseAtt)\n",
    "    print('D_hp', '\\t->' ,'(damage, att_pwr, hp_factor, def_factor)')\n",
    "    x = []\n",
    "    y = []\n",
    "    for i in interval:\n",
    "        result = calc_dmg(b = baseAtt, D_hp = i)\n",
    "        print (i, '\\t->', result)\n",
    "        x.append(i)\n",
    "        y.append(result[0])\n",
    "    #plotting\n",
    "    plt.plot(x, y, 'ro')\n",
    "    plt.xlabel('D_hp')\n",
    "    plt.ylabel('Dmg')\n",
    "    plt.show()"
   ]
  },
  {
   "cell_type": "code",
   "execution_count": 17,
   "metadata": {},
   "outputs": [
    {
     "name": "stdout",
     "output_type": "stream",
     "text": [
      "B =  5\n",
      "D_hp \t-> (damage, att_pwr, hp_factor, def_factor)\n",
      "0 \t-> (5.0, 5.0, 1.0, 1.0)\n",
      "1 \t-> (4.95, 5.0, 1.0, 0.99)\n",
      "2 \t-> (4.9, 5.0, 1.0, 0.98)\n",
      "3 \t-> (4.85, 5.0, 1.0, 0.97)\n",
      "4 \t-> (4.8, 5.0, 1.0, 0.96)\n",
      "5 \t-> (4.75, 5.0, 1.0, 0.95)\n",
      "6 \t-> (4.699999999999999, 5.0, 1.0, 0.94)\n",
      "7 \t-> (4.65, 5.0, 1.0, 0.93)\n",
      "8 \t-> (4.6000000000000005, 5.0, 1.0, 0.92)\n",
      "9 \t-> (4.55, 5.0, 1.0, 0.91)\n",
      "10 \t-> (4.5, 5.0, 1.0, 0.9)\n"
     ]
    },
    {
     "data": {
      "image/png": "[encoded data removed]",
      "text/plain": [
       "<matplotlib.figure.Figure at 0xdf184e64e0>"
      ]
     },
     "metadata": {},
     "output_type": "display_data"
    }
   ],
   "source": [
    "test_D_hp(baseAtt = 5)"
   ]
  },
  {
   "cell_type": "markdown",
   "metadata": {},
   "source": [
    "# Defining Intervals\n",
    "\n",
    "Damage = $( \\frac{B * A_{CO}}{100} + R) * \\frac{A_{HP}}{10} * (\\frac{200 - (D_{CO} + D_{TR} * D_{HP})}{100})$"
   ]
  },
  {
   "cell_type": "markdown",
   "metadata": {},
   "source": [
    "    b_intervall = np.arange(0, 10 + 1, 1)\n",
    "    a_co_intervall = np.arange(80, 130 + 5, 5)\n",
    "    r_intervall = np.arange(0, 1 + 0.1, 0.1)\n",
    "    a_hp_intervall = np.arange(0, 10 + 1, 1)\n",
    "    d_co_intervall = np.arange(80, 130 + 5, 5)\n",
    "    d_tr_intervall = np.arange(-1, 5 + 1, 1)\n",
    "    d_hp_intervall = np.arange(0, 10 + 1, 1)"
   ]
  },
  {
   "cell_type": "markdown",
   "metadata": {},
   "source": [
    "# Testing combination of all variables in increasing manner"
   ]
  },
  {
   "cell_type": "code",
   "execution_count": 19,
   "metadata": {},
   "outputs": [],
   "source": [
    "def test_all():\n",
    "    print('i', '\\t->' ,'(damage, att_pwr, hp_factor, def_factor)')\n",
    "    x = []\n",
    "    y = []\n",
    "    for i in range(0, 6):\n",
    "        result = calc_dmg(b = B_intervall[i], A_co = A_co_intervall[i], R = R_intervall[i], \\\n",
    "                          A_hp = A_hp_intervall[i], D_co = D_co_intervall[i], D_tr = D_tr_intervall[i], D_hp = D_hp_intervall[i])\n",
    "        print (i, '\\t->', result)\n",
    "        x.append(i)\n",
    "        y.append(result[0])\n",
    "    #plotting\n",
    "    plt.plot(x, y, 'ro')\n",
    "    plt.xlabel('i')\n",
    "    plt.ylabel('Dmg')\n",
    "    plt.show()"
   ]
  },
  {
   "cell_type": "code",
   "execution_count": 112,
   "metadata": {},
   "outputs": [
    {
     "name": "stdout",
     "output_type": "stream",
     "text": [
      "i \t-> (damage, att_pwr, hp_factor, def_factor)\n",
      "0 \t-> (0.0, 0.0, 0.0, 1.2)\n",
      "1 \t-> (0.10924999999999999, 0.95, 0.1, 1.15)\n",
      "2 \t-> (0.43200000000000005, 2.0, 0.2, 1.08)\n",
      "3 \t-> (0.9355500000000001, 3.1500000000000004, 0.3, 0.99)\n",
      "4 \t-> (1.5488000000000002, 4.4, 0.4, 0.88)\n",
      "5 \t-> (2.15625, 5.75, 0.5, 0.75)\n"
     ]
    },
    {
     "data": {
      "image/png": "[encoded data removed]",
      "text/plain": [
       "<matplotlib.figure.Figure at 0xdf18176c88>"
      ]
     },
     "metadata": {},
     "output_type": "display_data"
    }
   ],
   "source": [
    "test_all()"
   ]
  },
  {
   "cell_type": "markdown",
   "metadata": {},
   "source": [
    "#  Testing all variables randomly at once\n",
    "\n",
    "RNG in Python: https://www.youtube.com/watch?v=4-q-5q1c30U"
   ]
  },
  {
   "cell_type": "code",
   "execution_count": 129,
   "metadata": {},
   "outputs": [],
   "source": [
    "def test_all_randomly():\n",
    "    #defining intervalls\n",
    "    b_intervall = np.arange(0, 10 + 1, 1)\n",
    "    a_co_intervall = np.arange(80, 130 + 5, 5)\n",
    "    r_intervall = np.arange(0, 1 + 0.1, 0.1)\n",
    "    a_hp_intervall = np.arange(0, 10 + 1, 1)\n",
    "    d_co_intervall = np.arange(80, 130 + 5, 5)\n",
    "    d_tr_intervall = np.arange(-1, 5 + 1, 1)\n",
    "    d_hp_intervall = np.arange(0, 10 + 1, 1)\n",
    "    \n",
    "    #getting index for each array\n",
    "    r_b = random.randrange(0, len(b_intervall) - 1, 1)\n",
    "    r_a_co = random.randrange(0, len(a_co_intervall) - 1, 1)\n",
    "    r_r = random.randrange(0, len(r_intervall) - 1, 1)\n",
    "    r_a_hp = random.randrange(0, len(a_hp_intervall) - 1, 1)\n",
    "    r_d_co = random.randrange(0, len(d_co_intervall) - 1, 1)\n",
    "    r_d_tr = random.randrange(0, len(d_tr_intervall) - 1, 1)\n",
    "    r_d_hp = random.randrange(0, len(d_hp_intervall) - 1, 1)\n",
    "\n",
    "    \n",
    "    #calculating dmg\n",
    "    dmg = calc_dmg(b = b_intervall[r_b], A_co = a_co_intervall[r_a_co], R = r_intervall[r_r], \\\n",
    "                          A_hp = a_hp_intervall[r_a_hp], D_co = d_co_intervall[r_d_co], D_tr = d_tr_intervall[r_d_tr],\\\n",
    "                        D_hp = d_hp_intervall[r_d_hp])\n",
    "    return (dmg, (b_intervall[r_b], a_co_intervall[r_a_co], r_intervall[r_r]), a_hp_intervall[r_a_hp], (d_co_intervall[r_d_co], d_tr_intervall[r_d_tr], d_hp_intervall[r_d_hp]))"
   ]
  },
  {
   "cell_type": "code",
   "execution_count": 130,
   "metadata": {},
   "outputs": [
    {
     "data": {
      "text/plain": [
       "((0.55115, 7.55, 0.1, 0.73), (7, 105, 0.2), 1, (125, 2, 1))"
      ]
     },
     "execution_count": 130,
     "metadata": {},
     "output_type": "execute_result"
    }
   ],
   "source": [
    "test_all_randomly()"
   ]
  },
  {
   "cell_type": "code",
   "execution_count": 190,
   "metadata": {},
   "outputs": [],
   "source": [
    "def test_all_variables_randomly(n_times = 10):\n",
    "    x = []\n",
    "    y = []\n",
    "    results = []\n",
    "    for i in range(0, n_times):\n",
    "        result = test_all_randomly()\n",
    "        x.append(i)\n",
    "        y.append(result[0][0])\n",
    "        results.append(result)\n",
    "    #plotting\n",
    "    plt.plot(x, y, 'ro')\n",
    "    plt.xlabel('i')\n",
    "    plt.ylabel('Dmg')\n",
    "    plt.show()\n",
    "    #printing all values\n",
    "   #print('i', '\\t->' ,'(damage, att_pwr, hp_factor, def_factor)', '(B, A_co, R)', 'A_hp', '(D_co, D_tr, D_hp)')\n",
    "    print('i', '\\t->' ,'(damage, att_pwr, hp_factor, def_factor)', '\\n', 2*'\\t',\\\n",
    "          '= ( (', 'B', '*', 'A_co', ') / 100 + ', 'R', ') * ',\\\n",
    "               'A_hp', '/ 10 * ( (200 -', 'D_co', '+ ', 'D_tr', '*', 'D_hp', ') / 100 )\\n')\n",
    "\n",
    "    k = 0\n",
    "    for r in results:\n",
    "        print (k, '\\t->', r[0], '\\n', 2*'\\t','= ( (', r[1][0], '*', r[1][1], \") / 100 + \", r[1][2], ') * ',\\\n",
    "               r[2], '/ 10 * ( (200 -', r[3][0], '+ ', r[3][1], '*', r[3][2], ') / 100 )\\n')\n",
    "        k +=1"
   ]
  },
  {
   "cell_type": "code",
   "execution_count": 191,
   "metadata": {},
   "outputs": [
    {
     "data": {
      "image/png": "[encoded data removed]",
      "text/plain": [
       "<matplotlib.figure.Figure at 0xdf1821fd68>"
      ]
     },
     "metadata": {},
     "output_type": "display_data"
    },
    {
     "name": "stdout",
     "output_type": "stream",
     "text": [
      "i \t-> (damage, att_pwr, hp_factor, def_factor) \n",
      " \t\t = ( ( B * A_co ) / 100 +  R ) *  A_hp / 10 * ( (200 - D_co +  D_tr * D_hp ) / 100 )\n",
      "\n",
      "0 \t-> (1.9728, 6.8500000000000005, 0.4, 0.72) \n",
      " \t\t = ( ( 7 * 85 ) / 100 +  0.9 ) *  4 / 10 * ( (200 - 110 +  2 * 9 ) / 100 )\n",
      "\n",
      "1 \t-> (3.332699999999999, 8.049999999999999, 0.6, 0.69) \n",
      " \t\t = ( ( 7 * 105 ) / 100 +  0.7000000000000001 ) *  6 / 10 * ( (200 - 110 +  3 * 7 ) / 100 )\n",
      "\n",
      "2 \t-> (1.8375000000000001, 2.5, 0.7, 1.05) \n",
      " \t\t = ( ( 2 * 110 ) / 100 +  0.30000000000000004 ) *  7 / 10 * ( (200 - 90 +  1 * 5 ) / 100 )\n",
      "\n",
      "3 \t-> (0.5304000000000001, 7.800000000000001, 0.1, 0.68) \n",
      " \t\t = ( ( 9 * 80 ) / 100 +  0.6000000000000001 ) *  1 / 10 * ( (200 - 125 +  1 * 7 ) / 100 )\n",
      "\n",
      "4 \t-> (0.0, 7.0, 0.0, 1.12) \n",
      " \t\t = ( ( 7 * 100 ) / 100 +  0.0 ) *  0 / 10 * ( (200 - 80 +  2 * 4 ) / 100 )\n",
      "\n",
      "5 \t-> (0.3072000000000001, 0.6000000000000001, 0.4, 1.28) \n",
      " \t\t = ( ( 0 * 115 ) / 100 +  0.6000000000000001 ) *  4 / 10 * ( (200 - 80 +  -1 * 8 ) / 100 )\n",
      "\n",
      "6 \t-> (0.9309999999999999, 4.8999999999999995, 0.2, 0.95) \n",
      " \t\t = ( ( 4 * 115 ) / 100 +  0.30000000000000004 ) *  2 / 10 * ( (200 - 100 +  1 * 5 ) / 100 )\n",
      "\n",
      "7 \t-> (0.5508000000000001, 2.7, 0.2, 1.02) \n",
      " \t\t = ( ( 3 * 90 ) / 100 +  0.0 ) *  2 / 10 * ( (200 - 95 +  3 * 1 ) / 100 )\n",
      "\n",
      "8 \t-> (0.1458, 0.6000000000000001, 0.3, 0.81) \n",
      " \t\t = ( ( 0 * 120 ) / 100 +  0.6000000000000001 ) *  3 / 10 * ( (200 - 115 +  1 * 4 ) / 100 )\n",
      "\n",
      "9 \t-> (3.2252499999999995, 4.75, 0.7, 0.97) \n",
      " \t\t = ( ( 5 * 95 ) / 100 +  0.0 ) *  7 / 10 * ( (200 - 95 +  1 * 8 ) / 100 )\n",
      "\n"
     ]
    }
   ],
   "source": [
    "test_all_variables_randomly()"
   ]
  },
  {
   "cell_type": "code",
   "execution_count": null,
   "metadata": {},
   "outputs": [],
   "source": []
  }
 ],
 "metadata": {
  "kernelspec": {
   "display_name": "Python 3",
   "language": "python",
   "name": "python3"
  },
  "language_info": {
   "codemirror_mode": {
    "name": "ipython",
    "version": 3
   },
   "file_extension": ".py",
   "mimetype": "text/x-python",
   "name": "python",
   "nbconvert_exporter": "python",
   "pygments_lexer": "ipython3",
   "version": "3.6.4"
  }
 },
 "nbformat": 4,
 "nbformat_minor": 2
}
